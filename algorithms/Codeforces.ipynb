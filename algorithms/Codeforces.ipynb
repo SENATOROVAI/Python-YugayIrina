{
 "cells": [
  {
   "cell_type": "markdown",
   "metadata": {},
   "source": [
    "ЗАДАЧИ:"
   ]
  },
  {
   "cell_type": "markdown",
   "metadata": {
    "tags": [
     "parameters"
    ]
   },
   "source": [
    "АРБУЗ"
   ]
  },
  {
   "cell_type": "code",
   "execution_count": 4,
   "metadata": {},
   "outputs": [
    {
     "name": "stdout",
     "output_type": "stream",
     "text": [
      "no\n"
     ]
    }
   ],
   "source": [
    "w = int(input())\n",
    "if w % 2 == 0 and w > 2:\n",
    "    print('yes')\n",
    "else:\n",
    "     print('no')"
   ]
  },
  {
   "cell_type": "markdown",
   "metadata": {},
   "source": [
    "A. Укладка доминошками"
   ]
  },
  {
   "cell_type": "code",
   "execution_count": null,
   "metadata": {},
   "outputs": [],
   "source": [
    "x, y = map(int, input().split()) # что делает split и map\n",
# Ответ (split): Метод split() в языке программирования Python предназначен для разделения строки на подстроки с использованием определенного разделителя.
# Ответ (map): Функция map применяет функцию к каждому элементу последовательности и возвращает итератор с результатами.

    "size = x * y\n",
    "num = size // 2\n",
    "print(num)"
   ]
  },
  {
   "cell_type": "markdown",
   "metadata": {},
   "source": [
    "200B. Напитки\n",
    "\n"
   ]
  },
  {
   "cell_type": "code",
   "execution_count": null,
   "metadata": {},
   "outputs": [],
   "source": [
    "n = int(input())\n",
    "percentages = list(map(int, input().split()))\n",
    " \n",
    "total = sum(percentages) / n\n",
    "print(total)"
   ]
  },
  {
   "cell_type": "markdown",
   "metadata": {},
   "source": [
    "546A. Солдат и бананы"
   ]
  },
  {
   "cell_type": "code",
   "execution_count": null,
   "metadata": {},
   "outputs": [],
   "source": [
    "first_b, soldiers_money, how_many = map(int, input().split()) \n",
    "cost = 0\n",
    "for i in range(1, how_many+1):\n",
    "    banana_cost = i * first_b\n",
    "    cost += banana_cost\n",
    "if soldiers_money >= cost:\n",
    "    print(0)\n",
    "else:\n",
    "    print(cost - soldiers_money)"
   ]
  },
  {
   "cell_type": "markdown",
   "metadata": {},
   "source": [
    "1335A. Конфеты и две сестры"
   ]
  },
  {
   "cell_type": "code",
   "execution_count": null,
   "metadata": {},
   "outputs": [],
   "source": [
    "t = int(input())\n",
    "for _ in range(t):\n",
    "    n = int(input())\n",
    "    ways = (n - 1) // 2\n",
    "    if ways < 0:\n",
    "        ways = 0\n",
    "    print(ways)"
   ]
  },
  {
   "cell_type": "markdown",
   "metadata": {},
   "source": [
    "486A. Подсчет функции"
   ]
  },
  {
   "cell_type": "code",
   "execution_count": null,
   "metadata": {},
   "outputs": [],
   "source": [
    "a = int(input())\n",
    "if a % 2 == 0:\n",
    "    print(a // 2)\n",
    "else:\n",
    "    print(-(a // 2 + 1))"
   ]
  },
  {
   "cell_type": "markdown",
   "metadata": {},
   "source": [
    "617A. Слоник"
   ]
  },
  {
   "cell_type": "code",
   "execution_count": null,
   "metadata": {},
   "outputs": [],
   "source": [
    "point_b = int(input())\n",
    "step = point_b // 5\n",
    "if point_b % 5:\n",
    "    step += 1\n",
    "print(step)"
   ]
  },
  {
   "cell_type": "markdown",
   "metadata": {},
   "source": [
    "1328A. Задача о делимости"
   ]
  },
  {
   "cell_type": "code",
   "execution_count": null,
   "metadata": {},
   "outputs": [],
   "source": [
    "t = int(input())\n",
    "\n",
    "for _ in range(t):\n",
    "    a, b = map(int, input().split())\n",
    "    if a % b == 0:\n",
    "        print(0)\n",
    "    else:\n",
    "        print(b - (a % b))"
   ]
  },
  {
   "cell_type": "markdown",
   "metadata": {},
   "source": [
    "148A. Средство от бессонницы"
   ]
  },
  {
   "cell_type": "code",
   "execution_count": null,
   "metadata": {},
   "outputs": [],
   "source": [
    "k = int(input())\n",
    "l = int(input())\n",
    "m = int(input())\n",
    "n = int(input())\n",
    "d = int(input())\n",
    "\n",
    "count = 0\n",
    "\n",
    "for i in range(1, d + 1):\n",
    "    if i % k == 0 or i % l == 0 or i % m == 0 or i % n == 0:\n",
    "        count += 1\n",
    "\n",
    "print(count)"
   ]
  },
  {
   "cell_type": "markdown",
   "metadata": {},
   "source": [
    "750A. Новый год и спешка"
   ]
  },
  {
   "cell_type": "code",
   "execution_count": null,
   "metadata": {},
   "outputs": [],
   "source": [
    "n, k = map(int, input().split())\n",
    "\n",
    "max_tasks = 0\n",
    "time_needed = 0\n",
    "\n",
    "for i in range(1, n+1):\n",
    "    time_needed += 5*i\n",
    "    if time_needed + k <= 240:\n",
    "        max_tasks = i\n",
    "    else:\n",
    "        break\n",
    "\n",
    "print(max_tasks)"
   ]
  }
 ],
 "metadata": {
  "kernelspec": {
   "display_name": "venv",
   "language": "python",
   "name": "python3"
  },
  "language_info": {
   "codemirror_mode": {
    "name": "ipython",
    "version": 3
   },
   "file_extension": ".py",
   "mimetype": "text/x-python",
   "name": "python",
   "nbconvert_exporter": "python",
   "pygments_lexer": "ipython3",
   "version": "3.11.4"
  },
  "orig_nbformat": 4
 },
 "nbformat": 4,
 "nbformat_minor": 2
}
